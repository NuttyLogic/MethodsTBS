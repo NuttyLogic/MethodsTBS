{
 "cells": [
  {
   "cell_type": "code",
   "execution_count": 7,
   "metadata": {},
   "outputs": [],
   "source": [
    "probe_bed = []\n",
    "\n",
    "with open('/home/colin/Documents/MethodsTBS/target_regions.bed', 'r') as f:\n",
    "    for x in f:\n",
    "        if 'chr' in x:\n",
    "            chrom, start, end = x.strip().split('\\t')\n",
    "            r_e = int(end) - 500\n",
    "            r_s = int(start) + 500\n",
    "            probe_bed.append(f'{chrom}\\t{r_s}\\t{r_e}\\n')"
   ]
  },
  {
   "cell_type": "code",
   "execution_count": 8,
   "metadata": {},
   "outputs": [],
   "source": [
    "with open('/home/colin/Documents/MethodsTBS/target_regions_2.bed', 'w') as f:\n",
    "    for x in probe_bed:\n",
    "        f.write(x)"
   ]
  },
  {
   "cell_type": "code",
   "execution_count": null,
   "metadata": {},
   "outputs": [],
   "source": []
  }
 ],
 "metadata": {
  "kernelspec": {
   "display_name": "Python 3",
   "language": "python",
   "name": "python3"
  },
  "language_info": {
   "codemirror_mode": {
    "name": "ipython",
    "version": 3
   },
   "file_extension": ".py",
   "mimetype": "text/x-python",
   "name": "python",
   "nbconvert_exporter": "python",
   "pygments_lexer": "ipython3",
   "version": "3.8.0"
  }
 },
 "nbformat": 4,
 "nbformat_minor": 4
}
